{
 "cells": [
  {
   "cell_type": "markdown",
   "id": "1fb980f2-19c8-45b4-b066-2d018eb5a60c",
   "metadata": {},
   "source": [
    "# 速度を計測する"
   ]
  },
  {
   "cell_type": "code",
   "execution_count": null,
   "id": "c2ea271e-cf17-4eb3-96f4-860f3a95af73",
   "metadata": {},
   "outputs": [],
   "source": [
    "const measure = (fn) => {\n",
    "  const start = performance.now();\n",
    "  const answer = fn()\n",
    "  const end = performance.now();\n",
    "  console.log(`実行結果 ${Math.floor((x2 - x1)/1000)}秒`);\n",
    "  return answer\n",
    "}"
   ]
  }
 ],
 "metadata": {
  "kernelspec": {
   "display_name": "Python 3 (ipykernel)",
   "language": "python",
   "name": "python3"
  },
  "language_info": {
   "codemirror_mode": {
    "name": "ipython",
    "version": 3
   },
   "file_extension": ".py",
   "mimetype": "text/x-python",
   "name": "python",
   "nbconvert_exporter": "python",
   "pygments_lexer": "ipython3",
   "version": "3.12.2"
  }
 },
 "nbformat": 4,
 "nbformat_minor": 5
}
