{
 "cells": [
  {
   "cell_type": "markdown",
   "id": "1fb980f2-19c8-45b4-b066-2d018eb5a60c",
   "metadata": {},
   "source": [
    "# 速度を計測する"
   ]
  },
  {
   "cell_type": "code",
   "execution_count": 1,
   "id": "c2ea271e-cf17-4eb3-96f4-860f3a95af73",
   "metadata": {},
   "outputs": [],
   "source": [
    "const measure = (fn) => {\n",
    "  const start = performance.now();\n",
    "  const answer = fn()\n",
    "  const end = performance.now();\n",
    "  console.log(`実行結果 ${Math.floor((x2 - x1)/1000)}秒`);\n",
    "  return answer\n",
    "}"
   ]
  },
  {
   "cell_type": "code",
   "execution_count": null,
   "id": "0709a1d1-7ac6-4ae5-a841-48cff7a0eefa",
   "metadata": {},
   "outputs": [],
   "source": []
  }
 ],
 "metadata": {
  "kernelspec": {
   "display_name": "JavaScript (Node.js)",
   "language": "javascript",
   "name": "javascript"
  },
  "language_info": {
   "file_extension": ".js",
   "mimetype": "application/javascript",
   "name": "javascript",
   "version": "20.10.0"
  }
 },
 "nbformat": 4,
 "nbformat_minor": 5
}
