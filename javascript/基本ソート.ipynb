{
 "cells": [
  {
   "cell_type": "markdown",
   "id": "d4517439-6eb4-4de0-86c8-98142af26a4f",
   "metadata": {},
   "source": [
    "# 基本ソート\n",
    "左から最小の項を探して、交換することでソートする"
   ]
  },
  {
   "cell_type": "markdown",
   "id": "dc296068-a100-4923-9a56-8c73c9f1a29a",
   "metadata": {},
   "source": [
    "再帰"
   ]
  },
  {
   "cell_type": "code",
   "execution_count": 19,
   "id": "ef55417f-bb3f-4fb5-ad47-9d36602a02b3",
   "metadata": {},
   "outputs": [],
   "source": [
    "const list = [80, 50, 50, 30, 51, 70]\n"
   ]
  },
  {
   "cell_type": "code",
   "execution_count": 20,
   "id": "2464e131-24a1-4c75-9533-ecaa7deb06dc",
   "metadata": {},
   "outputs": [
    {
     "name": "stdout",
     "output_type": "stream",
     "text": [
      "[ 30 ] [ 80, 50, 50, 51, 70 ]\n",
      "[ 30, 50 ] [ 80, 50, 51, 70 ]\n",
      "[ 30, 50, 50 ] [ 80, 51, 70 ]\n",
      "[ 30, 50, 50, 51 ] [ 80, 70 ]\n",
      "[ 30, 50, 50, 51, 70 ] [ 80 ]\n",
      "[ 30, 50, 50, 51, 70, 80 ] []\n",
      "[ 30, 50, 50, 51, 70, 80 ]\n"
     ]
    }
   ],
   "source": [
    "\n",
    "const basic_sort = (sorted_list, stack_list) => {\n",
    "    if (stack_list.length < 1) return sorted_list\n",
    "    const [find_min_n_index, _] = stack_list.reduce(([i1, pre], cur, i2) => {\n",
    "        if (i2 === 0) return [i2, cur]\n",
    "        if (pre > cur) return [i2, cur]\n",
    "        return [i1, pre]\n",
    "    }, [0, 0])\n",
    "\n",
    "    const new_sorted_list = [...sorted_list, stack_list[find_min_n_index]]\n",
    "    const a = [...stack_list.slice(0, find_min_n_index)]\n",
    "    const b = [...stack_list.slice(find_min_n_index + 1, stack_list.length)]\n",
    "    const remain_list = [...a, ...b]\n",
    "    console.log(new_sorted_list, remain_list)\n",
    "    return basic_sort(new_sorted_list, remain_list)\n",
    "}\n",
    "\n",
    "console.log(basic_sort([], list))"
   ]
  },
  {
   "cell_type": "markdown",
   "id": "99b849e7-c493-49aa-8334-1478e9195dad",
   "metadata": {},
   "source": [
    "愚直なやり方"
   ]
  },
  {
   "cell_type": "code",
   "execution_count": 21,
   "id": "c0df4591-e1e7-4cfa-8944-5dd9f8f2458f",
   "metadata": {
    "scrolled": true
   },
   "outputs": [
    {
     "name": "stdout",
     "output_type": "stream",
     "text": [
      "[ 30, 50, 50, 51, 70, 80 ]\n"
     ]
    }
   ],
   "source": [
    "for (let i = 0; i < list.length - 1; i++) {\n",
    "    let a_min = list[i];\n",
    "    let s = i;\n",
    "\n",
    "    for (let j = i + 1; j < list.length; j++) {\n",
    "        if (list[j] < a_min) {\n",
    "            a_min = list[j];\n",
    "            s = j;\n",
    "        }\n",
    "    }\n",
    "\n",
    "    if (s !== i) {\n",
    "        let temp = list[i];\n",
    "        list[i] = list[s];\n",
    "        list[s] = temp;\n",
    "    }\n",
    "}\n",
    "console.log(list)"
   ]
  },
  {
   "cell_type": "code",
   "execution_count": null,
   "id": "01dcbc33-f265-4f97-b85a-780df6dc6761",
   "metadata": {},
   "outputs": [],
   "source": []
  },
  {
   "cell_type": "code",
   "execution_count": null,
   "id": "6413399d-28a2-4887-9732-1357692015a8",
   "metadata": {},
   "outputs": [],
   "source": []
  }
 ],
 "metadata": {
  "kernelspec": {
   "display_name": "JavaScript (Node.js)",
   "language": "javascript",
   "name": "javascript"
  },
  "language_info": {
   "file_extension": ".js",
   "mimetype": "application/javascript",
   "name": "javascript",
   "version": "20.10.0"
  }
 },
 "nbformat": 4,
 "nbformat_minor": 5
}
