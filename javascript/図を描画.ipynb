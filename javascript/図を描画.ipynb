{
 "cells": [
  {
   "cell_type": "code",
   "execution_count": 4,
   "id": "8a12a6dd-da73-4b54-9e42-4a4513e8a19e",
   "metadata": {},
   "outputs": [],
   "source": [
    "function chartjs(config, width='100%', height=500) {\n",
    "    var html =  `<iframe width='${width}' height='${height}' srcdoc=\"\n",
    "        <head><script src='https://cdn.jsdelivr.net/npm/chart.js@2.8.0'></script></head>\n",
    "        <body>\n",
    "        <canvas id='canvas'></canvas>\n",
    "        <script>\n",
    "            window.onload = function() {\n",
    "                var ctx = document.getElementById('canvas').getContext('2d');\n",
    "                window.myLine = new Chart(ctx, ${JSON.stringify(config).replace(/\"/gi,'\\'')});\n",
    "            }\n",
    "        </script>\n",
    "        </body>\n",
    "    \">`;\n",
    "    $$.html(html)\n",
    "}"
   ]
  },
  {
   "cell_type": "code",
   "execution_count": 5,
   "id": "d52ae218-15a7-494d-aefa-6257ed2e0708",
   "metadata": {},
   "outputs": [
    {
     "data": {
      "text/html": [
       "<iframe width='100%' height='500' srcdoc=\"\n",
       "        <head><script src='https://cdn.jsdelivr.net/npm/chart.js@2.8.0'></script></head>\n",
       "        <body>\n",
       "        <canvas id='canvas'></canvas>\n",
       "        <script>\n",
       "            window.onload = function() {\n",
       "                var ctx = document.getElementById('canvas').getContext('2d');\n",
       "                window.myLine = new Chart(ctx, {'type':'bar','data':{'labels':['Red','Blue','Yellow','Green','Purple','Orange'],'datasets':[{'label':'# of Votes','data':[12,19,3,5,2,3],'backgroundColor':['rgba(255, 99, 132, 0.2)','rgba(54, 162, 235, 0.2)','rgba(255, 206, 86, 0.2)','rgba(75, 192, 192, 0.2)','rgba(153, 102, 255, 0.2)','rgba(255, 159, 64, 0.2)'],'borderColor':['rgba(255, 99, 132, 1)','rgba(54, 162, 235, 1)','rgba(255, 206, 86, 1)','rgba(75, 192, 192, 1)','rgba(153, 102, 255, 1)','rgba(255, 159, 64, 1)'],'borderWidth':1}]},'options':{'scales':{'yAxes':[{'ticks':{'beginAtZero':true}}]}}});\n",
       "            }\n",
       "        </script>\n",
       "        </body>\n",
       "    \">"
      ]
     },
     "execution_count": 5,
     "metadata": {},
     "output_type": "execute_result"
    }
   ],
   "source": [
    "var config = {\n",
    "    type: 'bar',\n",
    "    data: {\n",
    "        labels: ['Red', 'Blue', 'Yellow', 'Green', 'Purple', 'Orange'],\n",
    "        datasets: [{\n",
    "            label: '# of Votes',\n",
    "            data: [12, 19, 3, 5, 2, 3],\n",
    "            backgroundColor: [\n",
    "                'rgba(255, 99, 132, 0.2)',\n",
    "                'rgba(54, 162, 235, 0.2)',\n",
    "                'rgba(255, 206, 86, 0.2)',\n",
    "                'rgba(75, 192, 192, 0.2)',\n",
    "                'rgba(153, 102, 255, 0.2)',\n",
    "                'rgba(255, 159, 64, 0.2)'\n",
    "            ],\n",
    "            borderColor: [\n",
    "                'rgba(255, 99, 132, 1)',\n",
    "                'rgba(54, 162, 235, 1)',\n",
    "                'rgba(255, 206, 86, 1)',\n",
    "                'rgba(75, 192, 192, 1)',\n",
    "                'rgba(153, 102, 255, 1)',\n",
    "                'rgba(255, 159, 64, 1)'\n",
    "            ],\n",
    "            borderWidth: 1\n",
    "        }]\n",
    "    },\n",
    "    options: {\n",
    "        scales: {\n",
    "            yAxes: [{\n",
    "                ticks: {\n",
    "                    beginAtZero: true\n",
    "                }\n",
    "            }]\n",
    "        }\n",
    "    }\n",
    "}\n",
    "\n",
    "chartjs(config); \n"
   ]
  }
 ],
 "metadata": {
  "kernelspec": {
   "display_name": "JavaScript (Node.js)",
   "language": "javascript",
   "name": "javascript"
  },
  "language_info": {
   "file_extension": ".js",
   "mimetype": "application/javascript",
   "name": "javascript",
   "version": "20.10.0"
  }
 },
 "nbformat": 4,
 "nbformat_minor": 5
}
