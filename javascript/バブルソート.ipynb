{
 "cells": [
  {
   "cell_type": "markdown",
   "id": "3afc5e92-2938-458e-b456-c213e8d01a3c",
   "metadata": {},
   "source": [
    "# バブルソート"
   ]
  },
  {
   "cell_type": "code",
   "execution_count": 12,
   "id": "10eae7d8-0373-4924-99ac-6c7e8f4eefc7",
   "metadata": {},
   "outputs": [],
   "source": [
    "const list = [10, 20, 15, 30, 10, 15, 10, 30];"
   ]
  },
  {
   "cell_type": "code",
   "execution_count": 13,
   "id": "6a8912cc-28c7-4843-8297-e39db926d86b",
   "metadata": {
    "scrolled": true
   },
   "outputs": [
    {
     "name": "stdout",
     "output_type": "stream",
     "text": [
      "[\n",
      "  10, 20, 15, 30,\n",
      "  10, 15, 10, 30\n",
      "]\n",
      "[\n",
      "  10, 15, 20, 10,\n",
      "  15, 10, 30, 30\n",
      "]\n",
      "[\n",
      "  10, 15, 10, 15,\n",
      "  10, 20, 30, 30\n",
      "]\n",
      "[\n",
      "  10, 10, 15, 10,\n",
      "  15, 20, 30, 30\n",
      "]\n",
      "[\n",
      "  10, 10, 10, 15,\n",
      "  15, 20, 30, 30\n",
      "]\n",
      "[\n",
      "  10, 10, 10, 15,\n",
      "  15, 20, 30, 30\n",
      "]\n",
      "[\n",
      "  10, 10, 10, 15,\n",
      "  15, 20, 30, 30\n",
      "]\n",
      "[\n",
      "  10, 10, 10, 15,\n",
      "  15, 20, 30, 30\n",
      "]\n"
     ]
    }
   ],
   "source": [
    "\n",
    "for (let i = 0; i < list.length - 1; i++) {\n",
    "    console.log(list)\n",
    "    for (let j = 0; j < list.length - 1 - i; j++) {\n",
    "        if (list[j] > list[j + 1]) {\n",
    "            // Swap elements\n",
    "            let temp = list[j];\n",
    "            list[j] = list[j + 1];\n",
    "            list[j + 1] = temp;\n",
    "        }\n",
    "    }\n",
    "}\n",
    "\n",
    "console.log(list);"
   ]
  },
  {
   "cell_type": "markdown",
   "id": "c60f4049-2cd1-4ffe-afd4-eb1e7bab11e4",
   "metadata": {},
   "source": [
    "末尾最適化したバブルソート"
   ]
  },
  {
   "cell_type": "code",
   "execution_count": 14,
   "id": "91399168-3d05-4fce-ae39-4892084f8b5b",
   "metadata": {},
   "outputs": [
    {
     "name": "stdout",
     "output_type": "stream",
     "text": [
      "[\n",
      "  10, 10, 10, 15,\n",
      "  15, 20, 30, 30\n",
      "]\n"
     ]
    }
   ],
   "source": [
    "const bubbleSort = (arr) => {\n",
    "    const len = arr.length;\n",
    "\n",
    "    const swap = (arr, idx1, idx2) => {\n",
    "        const temp = arr[idx1];\n",
    "        arr[idx1] = arr[idx2];\n",
    "        arr[idx2] = temp;\n",
    "    };\n",
    "\n",
    "    const sort = (array, n) => {\n",
    "        if (n <= 1) return array;\n",
    "\n",
    "        let swapped = false;\n",
    "        for (let i = 0; i < n - 1; i++) {\n",
    "            if (array[i] > array[i + 1]) {\n",
    "                swap(array, i, i + 1);\n",
    "                swapped = true;\n",
    "            }\n",
    "        }\n",
    "\n",
    "        if (!swapped) return array;\n",
    "\n",
    "        return sort(array, n - 1);\n",
    "    };\n",
    "\n",
    "    return sort(arr.slice(), len);\n",
    "};\n",
    "\n",
    "const sortedList = bubbleSort(list);\n",
    "\n",
    "console.log(sortedList);"
   ]
  },
  {
   "cell_type": "code",
   "execution_count": null,
   "id": "af8a2094-0bc0-435c-a291-5668a1c86c7f",
   "metadata": {},
   "outputs": [],
   "source": []
  },
  {
   "cell_type": "code",
   "execution_count": null,
   "id": "593d7f66-dca9-495b-87a5-79bfd284600d",
   "metadata": {},
   "outputs": [],
   "source": []
  },
  {
   "cell_type": "code",
   "execution_count": null,
   "id": "f50100c4-047a-4a00-917e-a331d2ff88be",
   "metadata": {},
   "outputs": [],
   "source": []
  }
 ],
 "metadata": {
  "kernelspec": {
   "display_name": "JavaScript (Node.js)",
   "language": "javascript",
   "name": "javascript"
  },
  "language_info": {
   "file_extension": ".js",
   "mimetype": "application/javascript",
   "name": "javascript",
   "version": "20.10.0"
  }
 },
 "nbformat": 4,
 "nbformat_minor": 5
}
