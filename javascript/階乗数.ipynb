{
 "cells": [
  {
   "cell_type": "markdown",
   "id": "4a2d7320-05d1-42d5-b44e-a0a071c5ffe3",
   "metadata": {},
   "source": [
    "# 階乗数"
   ]
  },
  {
   "cell_type": "markdown",
   "id": "a07d74ce-1f7c-4e7d-829d-15e3f42db541",
   "metadata": {},
   "source": [
    "普通の再帰"
   ]
  },
  {
   "cell_type": "code",
   "execution_count": null,
   "id": "c9eb1868-6131-4f39-9369-c443caef46bd",
   "metadata": {},
   "outputs": [],
   "source": [
    "const factorial = (n) => {\n",
    "  if (n===1) return 1;\n",
    "  return n * factorial(n-1)\n",
    "}\n"
   ]
  },
  {
   "cell_type": "markdown",
   "id": "93e6a61b-80c2-4958-a09b-011723b097fb",
   "metadata": {},
   "source": [
    "末尾最適化"
   ]
  },
  {
   "cell_type": "code",
   "execution_count": null,
   "id": "294b99d3-b417-456a-bb56-ec747ee613f7",
   "metadata": {},
   "outputs": [],
   "source": [
    "const factorial_optimized = (n, m = 1) => {\n",
    "  if (n === 1) return m;\n",
    "  return factorial_optimized(n-1, m * n)\n",
    "}"
   ]
  }
 ],
 "metadata": {
  "kernelspec": {
   "display_name": "JavaScript (Node.js)",
   "language": "javascript",
   "name": "javascript"
  },
  "language_info": {
   "file_extension": ".js",
   "mimetype": "application/javascript",
   "name": "javascript",
   "version": "20.10.0"
  }
 },
 "nbformat": 4,
 "nbformat_minor": 5
}
